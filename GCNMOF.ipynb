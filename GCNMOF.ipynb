{
  "nbformat": 4,
  "nbformat_minor": 0,
  "metadata": {
    "colab": {
      "name": "Copy of Copy of Untitled8.ipynb",
      "provenance": [],
      "collapsed_sections": [],
      "authorship_tag": "ABX9TyNum8GUoXLF3eVC56L2XHZ/",
      "include_colab_link": true
    },
    "kernelspec": {
      "name": "python3",
      "display_name": "Python 3"
    },
    "language_info": {
      "name": "python"
    }
  },
  "cells": [
    {
      "cell_type": "markdown",
      "metadata": {
        "id": "view-in-github",
        "colab_type": "text"
      },
      "source": [
        "<a href=\"https://colab.research.google.com/github/MehrdadJalali-KIT/pySHACL/blob/master/GCNMOF.ipynb\" target=\"_parent\"><img src=\"https://colab.research.google.com/assets/colab-badge.svg\" alt=\"Open In Colab\"/></a>"
      ]
    },
    {
      "cell_type": "code",
      "execution_count": null,
      "metadata": {
        "id": "pCjeQr1jSVwr"
      },
      "outputs": [],
      "source": [
        "import networkx as nx\n",
        "import pandas as pd\n",
        "import os\n",
        "from stellargraph import StellarGraph\n",
        "import stellargraph as sg\n",
        "from stellargraph.mapper import GraphSAGENodeGenerator\n",
        "from stellargraph.layer import GraphSAGE\n",
        "\n",
        "from tensorflow.keras import layers, optimizers, losses, metrics, Model\n",
        "from sklearn import preprocessing, feature_extraction, model_selection\n",
        "from stellargraph import datasets\n",
        "from IPython.display import display, HTML\n",
        "import matplotlib.pyplot as plt\n",
        "%matplotlib inline"
      ]
    },
    {
      "cell_type": "code",
      "source": [
        "edges_all=pd.read_csv('/content/drive/MyDrive/MOF/MOFSMILES/List_METAL_6000.csv')\n",
        "nodes_all=pd.read_csv('/content/drive/MyDrive/MOF/MOFSMILES/Features_1800_NOLABEL.csv')\n",
        "  \n",
        "nodes_all1=pd.read_csv('/content/drive/MyDrive/MOF/MOFSMILES/Features_1800.csv')\n",
        "node_subjects=nodes_all1.iloc[:,10]\n",
        "\n",
        "G = nx.Graph()\n",
        "G = StellarGraph(nodes=nodes_all,edges=edges_all)\n",
        "print(G.info())"
      ],
      "metadata": {
        "colab": {
          "base_uri": "https://localhost:8080/"
        },
        "id": "ld-yINzyTR6U",
        "outputId": "eaaf6eb2-04a9-4d45-8449-169f9b199354"
      },
      "execution_count": null,
      "outputs": [
        {
          "output_type": "stream",
          "name": "stdout",
          "text": [
            "StellarGraph: Undirected multigraph\n",
            " Nodes: 1999, Edges: 48524\n",
            "\n",
            " Node types:\n",
            "  default: [1999]\n",
            "    Features: float32 vector, length 10\n",
            "    Edge types: default-default->default\n",
            "\n",
            " Edge types:\n",
            "    default-default->default: [48524]\n",
            "        Weights: all 1 (default)\n",
            "        Features: float32 vector, length 1\n"
          ]
        }
      ]
    },
    {
      "cell_type": "code",
      "source": [
        "import csv"
      ],
      "metadata": {
        "id": "567ijuNyWjzd"
      },
      "execution_count": null,
      "outputs": []
    },
    {
      "cell_type": "code",
      "source": [
        "from google.colab import drive\n",
        "drive.mount('/content/drive')"
      ],
      "metadata": {
        "colab": {
          "base_uri": "https://localhost:8080/"
        },
        "id": "vslk80FEa1Wn",
        "outputId": "f7854b63-de1d-4111-9c5a-f2f6320d4090"
      },
      "execution_count": null,
      "outputs": [
        {
          "output_type": "stream",
          "name": "stdout",
          "text": [
            "Mounted at /content/drive\n"
          ]
        }
      ]
    },
    {
      "cell_type": "code",
      "source": [
        "print(G.info())"
      ],
      "metadata": {
        "colab": {
          "base_uri": "https://localhost:8080/"
        },
        "id": "e52RiFGTTZlV",
        "outputId": "b1f2a873-10fc-4c82-fb6b-457b54354db7"
      },
      "execution_count": null,
      "outputs": [
        {
          "output_type": "stream",
          "name": "stdout",
          "text": [
            "StellarGraph: Undirected multigraph\n",
            " Nodes: 1999, Edges: 48524\n",
            "\n",
            " Node types:\n",
            "  default: [1999]\n",
            "    Features: float32 vector, length 10\n",
            "    Edge types: default-default->default\n",
            "\n",
            " Edge types:\n",
            "    default-default->default: [48524]\n",
            "        Weights: all 1 (default)\n",
            "        Features: float32 vector, length 1\n"
          ]
        }
      ]
    },
    {
      "cell_type": "code",
      "source": [
        "set(node_subjects)"
      ],
      "metadata": {
        "colab": {
          "base_uri": "https://localhost:8080/"
        },
        "id": "8gmnECD9Tc5l",
        "outputId": "1589c7e0-fa06-4006-8114-ec50fa249870"
      },
      "execution_count": null,
      "outputs": [
        {
          "output_type": "execute_result",
          "data": {
            "text/plain": [
              "{0, 1, 2, 3}"
            ]
          },
          "metadata": {},
          "execution_count": 7
        }
      ]
    },
    {
      "cell_type": "code",
      "source": [
        "train_subjects, test_subjects = model_selection.train_test_split(\n",
        "    node_subjects, train_size=0.4, test_size=None, random_state=0,stratify=node_subjects\n",
        ")"
      ],
      "metadata": {
        "id": "Lj5a04FvThcE"
      },
      "execution_count": null,
      "outputs": []
    },
    {
      "cell_type": "code",
      "source": [
        "from collections import Counter\n",
        "\n",
        "Counter(train_subjects)"
      ],
      "metadata": {
        "colab": {
          "base_uri": "https://localhost:8080/"
        },
        "id": "DGgcz1dJTksj",
        "outputId": "546959ec-2c82-4206-db17-a3a244d3695d"
      },
      "execution_count": null,
      "outputs": [
        {
          "output_type": "execute_result",
          "data": {
            "text/plain": [
              "Counter({0: 424, 1: 169, 2: 108, 3: 98})"
            ]
          },
          "metadata": {},
          "execution_count": 26
        }
      ]
    },
    {
      "cell_type": "code",
      "source": [
        "target_encoding = preprocessing.LabelBinarizer()\n",
        "\n",
        "train_targets = target_encoding.fit_transform(train_subjects)\n",
        "test_targets = target_encoding.transform(test_subjects)"
      ],
      "metadata": {
        "id": "ZpnenwSUT1oz"
      },
      "execution_count": null,
      "outputs": []
    },
    {
      "cell_type": "code",
      "source": [
        "batch_size = 5\n",
        "num_samples = [10, 5]"
      ],
      "metadata": {
        "id": "Oq20HDseUEUT"
      },
      "execution_count": null,
      "outputs": []
    },
    {
      "cell_type": "code",
      "source": [
        "generator = GraphSAGENodeGenerator(G, batch_size, num_samples)"
      ],
      "metadata": {
        "id": "k9AGh99RUN38"
      },
      "execution_count": null,
      "outputs": []
    },
    {
      "cell_type": "code",
      "source": [
        "train_gen = generator.flow(train_subjects, train_targets, shuffle=True)"
      ],
      "metadata": {
        "id": "EKu5k_OcUQ-M"
      },
      "execution_count": null,
      "outputs": []
    },
    {
      "cell_type": "code",
      "source": [
        "graphsage_model = GraphSAGE(\n",
        "    layer_sizes=[32, 32], generator=generator, bias=True, dropout=0.5,\n",
        ")"
      ],
      "metadata": {
        "id": "E83_Mk9VUTPM"
      },
      "execution_count": null,
      "outputs": []
    },
    {
      "cell_type": "code",
      "source": [
        "x_inp, x_out = graphsage_model.in_out_tensors()\n",
        "prediction = layers.Dense(units=train_targets.shape[1], activation=\"softmax\")(x_out)"
      ],
      "metadata": {
        "id": "yvwDFigeUVw2"
      },
      "execution_count": null,
      "outputs": []
    },
    {
      "cell_type": "code",
      "source": [
        "model = Model(inputs=x_inp, outputs=prediction)\n",
        "model.compile(\n",
        "    optimizer=optimizers.Adam(lr=0.005),\n",
        "    loss=losses.categorical_crossentropy,\n",
        "    metrics=[\"acc\"],\n",
        ")"
      ],
      "metadata": {
        "colab": {
          "base_uri": "https://localhost:8080/"
        },
        "id": "F1xb_5IhUX_M",
        "outputId": "1f922a80-666e-482c-e1d2-9c0722415350"
      },
      "execution_count": null,
      "outputs": [
        {
          "output_type": "stream",
          "name": "stderr",
          "text": [
            "/usr/local/lib/python3.7/dist-packages/keras/optimizer_v2/adam.py:105: UserWarning: The `lr` argument is deprecated, use `learning_rate` instead.\n",
            "  super(Adam, self).__init__(name, **kwargs)\n"
          ]
        }
      ]
    },
    {
      "cell_type": "code",
      "source": [
        "test_gen = generator.flow(test_subjects, test_targets)"
      ],
      "metadata": {
        "id": "-u0Wd6ZZUbEM"
      },
      "execution_count": null,
      "outputs": []
    },
    {
      "cell_type": "code",
      "source": [
        "history = model.fit(\n",
        "    train_gen, epochs=100, validation_data=test_gen, verbose=2, shuffle=False\n",
        ")"
      ],
      "metadata": {
        "colab": {
          "base_uri": "https://localhost:8080/"
        },
        "id": "i_UILlBKUeL0",
        "outputId": "66a8cdb0-22da-4005-bcf4-20ecd147c0b0"
      },
      "execution_count": null,
      "outputs": [
        {
          "output_type": "stream",
          "name": "stdout",
          "text": [
            "Epoch 1/100\n",
            "160/160 - 5s - loss: 1.2134 - acc: 0.5219 - val_loss: 1.1923 - val_acc: 0.5317 - 5s/epoch - 31ms/step\n",
            "Epoch 2/100\n",
            "160/160 - 2s - loss: 1.1980 - acc: 0.5307 - val_loss: 1.2086 - val_acc: 0.5317 - 2s/epoch - 13ms/step\n",
            "Epoch 3/100\n",
            "160/160 - 2s - loss: 1.1947 - acc: 0.5307 - val_loss: 1.1826 - val_acc: 0.5317 - 2s/epoch - 13ms/step\n",
            "Epoch 4/100\n",
            "160/160 - 2s - loss: 1.1855 - acc: 0.5307 - val_loss: 1.1742 - val_acc: 0.5317 - 2s/epoch - 13ms/step\n",
            "Epoch 5/100\n",
            "160/160 - 2s - loss: 1.1757 - acc: 0.5332 - val_loss: 1.1194 - val_acc: 0.5317 - 2s/epoch - 14ms/step\n",
            "Epoch 6/100\n",
            "160/160 - 2s - loss: 1.0874 - acc: 0.5782 - val_loss: 0.8836 - val_acc: 0.7183 - 2s/epoch - 13ms/step\n",
            "Epoch 7/100\n",
            "160/160 - 2s - loss: 0.9743 - acc: 0.6270 - val_loss: 0.7840 - val_acc: 0.6542 - 2s/epoch - 14ms/step\n",
            "Epoch 8/100\n",
            "160/160 - 2s - loss: 0.9973 - acc: 0.6345 - val_loss: 0.8392 - val_acc: 0.6567 - 2s/epoch - 13ms/step\n",
            "Epoch 9/100\n",
            "160/160 - 2s - loss: 0.9946 - acc: 0.6258 - val_loss: 0.7905 - val_acc: 0.6533 - 2s/epoch - 13ms/step\n",
            "Epoch 10/100\n",
            "160/160 - 2s - loss: 0.9562 - acc: 0.6533 - val_loss: 0.8059 - val_acc: 0.6533 - 2s/epoch - 14ms/step\n",
            "Epoch 11/100\n",
            "160/160 - 2s - loss: 0.9407 - acc: 0.6683 - val_loss: 0.7560 - val_acc: 0.6533 - 2s/epoch - 14ms/step\n",
            "Epoch 12/100\n",
            "160/160 - 2s - loss: 0.9632 - acc: 0.6483 - val_loss: 0.7282 - val_acc: 0.6533 - 2s/epoch - 13ms/step\n",
            "Epoch 13/100\n",
            "160/160 - 2s - loss: 0.9082 - acc: 0.6846 - val_loss: 0.7178 - val_acc: 0.6533 - 2s/epoch - 13ms/step\n",
            "Epoch 14/100\n",
            "160/160 - 2s - loss: 0.9405 - acc: 0.6608 - val_loss: 0.7282 - val_acc: 0.6983 - 2s/epoch - 13ms/step\n",
            "Epoch 15/100\n",
            "160/160 - 2s - loss: 0.8915 - acc: 0.7046 - val_loss: 0.6922 - val_acc: 0.6533 - 2s/epoch - 13ms/step\n",
            "Epoch 16/100\n",
            "160/160 - 2s - loss: 0.9076 - acc: 0.6783 - val_loss: 0.6348 - val_acc: 0.6533 - 2s/epoch - 13ms/step\n",
            "Epoch 17/100\n",
            "160/160 - 2s - loss: 0.8868 - acc: 0.6809 - val_loss: 0.6170 - val_acc: 0.8300 - 2s/epoch - 14ms/step\n",
            "Epoch 18/100\n",
            "160/160 - 2s - loss: 0.8715 - acc: 0.6984 - val_loss: 0.5545 - val_acc: 0.6533 - 2s/epoch - 14ms/step\n",
            "Epoch 19/100\n",
            "160/160 - 2s - loss: 0.8585 - acc: 0.7059 - val_loss: 0.5135 - val_acc: 0.8642 - 2s/epoch - 13ms/step\n",
            "Epoch 20/100\n",
            "160/160 - 2s - loss: 0.8484 - acc: 0.7109 - val_loss: 0.5192 - val_acc: 0.8642 - 2s/epoch - 14ms/step\n",
            "Epoch 21/100\n",
            "160/160 - 2s - loss: 0.7762 - acc: 0.7409 - val_loss: 0.4957 - val_acc: 0.8642 - 2s/epoch - 13ms/step\n",
            "Epoch 22/100\n",
            "160/160 - 2s - loss: 0.8145 - acc: 0.7247 - val_loss: 0.4822 - val_acc: 0.8642 - 2s/epoch - 13ms/step\n",
            "Epoch 23/100\n",
            "160/160 - 2s - loss: 0.8336 - acc: 0.7196 - val_loss: 0.4735 - val_acc: 0.8642 - 2s/epoch - 13ms/step\n",
            "Epoch 24/100\n",
            "160/160 - 2s - loss: 0.8148 - acc: 0.7159 - val_loss: 0.4554 - val_acc: 0.8642 - 2s/epoch - 13ms/step\n",
            "Epoch 25/100\n",
            "160/160 - 2s - loss: 0.7945 - acc: 0.7272 - val_loss: 0.4627 - val_acc: 0.8642 - 2s/epoch - 13ms/step\n",
            "Epoch 26/100\n",
            "160/160 - 2s - loss: 0.8202 - acc: 0.7109 - val_loss: 0.4348 - val_acc: 0.8642 - 2s/epoch - 13ms/step\n",
            "Epoch 27/100\n",
            "160/160 - 2s - loss: 0.7901 - acc: 0.7247 - val_loss: 0.4263 - val_acc: 0.8642 - 2s/epoch - 13ms/step\n",
            "Epoch 28/100\n",
            "160/160 - 2s - loss: 0.8343 - acc: 0.7071 - val_loss: 0.4497 - val_acc: 0.8642 - 2s/epoch - 13ms/step\n",
            "Epoch 29/100\n",
            "160/160 - 2s - loss: 0.7858 - acc: 0.7272 - val_loss: 0.4309 - val_acc: 0.8642 - 2s/epoch - 13ms/step\n",
            "Epoch 30/100\n",
            "160/160 - 2s - loss: 0.7355 - acc: 0.7760 - val_loss: 0.4409 - val_acc: 0.8642 - 2s/epoch - 13ms/step\n",
            "Epoch 31/100\n",
            "160/160 - 2s - loss: 0.7031 - acc: 0.7522 - val_loss: 0.4840 - val_acc: 0.8642 - 2s/epoch - 14ms/step\n",
            "Epoch 32/100\n",
            "160/160 - 2s - loss: 0.7687 - acc: 0.7359 - val_loss: 0.4470 - val_acc: 0.8642 - 2s/epoch - 14ms/step\n",
            "Epoch 33/100\n",
            "160/160 - 2s - loss: 0.7962 - acc: 0.7209 - val_loss: 0.5448 - val_acc: 0.8642 - 2s/epoch - 13ms/step\n",
            "Epoch 34/100\n",
            "160/160 - 2s - loss: 0.7533 - acc: 0.7397 - val_loss: 0.5260 - val_acc: 0.8642 - 2s/epoch - 13ms/step\n",
            "Epoch 35/100\n",
            "160/160 - 2s - loss: 0.7965 - acc: 0.7284 - val_loss: 0.5192 - val_acc: 0.8642 - 2s/epoch - 14ms/step\n",
            "Epoch 36/100\n",
            "160/160 - 2s - loss: 0.7318 - acc: 0.7584 - val_loss: 0.4816 - val_acc: 0.8642 - 2s/epoch - 14ms/step\n",
            "Epoch 37/100\n",
            "160/160 - 3s - loss: 0.7595 - acc: 0.7409 - val_loss: 0.4652 - val_acc: 0.8642 - 3s/epoch - 17ms/step\n",
            "Epoch 38/100\n",
            "160/160 - 2s - loss: 0.7532 - acc: 0.7459 - val_loss: 0.4926 - val_acc: 0.8642 - 2s/epoch - 13ms/step\n",
            "Epoch 39/100\n",
            "160/160 - 2s - loss: 0.7123 - acc: 0.7747 - val_loss: 0.4620 - val_acc: 0.8642 - 2s/epoch - 13ms/step\n",
            "Epoch 40/100\n",
            "160/160 - 2s - loss: 0.7629 - acc: 0.7372 - val_loss: 0.4932 - val_acc: 0.8642 - 2s/epoch - 14ms/step\n",
            "Epoch 41/100\n",
            "160/160 - 2s - loss: 0.7334 - acc: 0.7547 - val_loss: 0.5319 - val_acc: 0.8583 - 2s/epoch - 13ms/step\n",
            "Epoch 42/100\n",
            "160/160 - 2s - loss: 0.7373 - acc: 0.7497 - val_loss: 0.4109 - val_acc: 0.8642 - 2s/epoch - 13ms/step\n",
            "Epoch 43/100\n",
            "160/160 - 2s - loss: 0.7283 - acc: 0.7422 - val_loss: 0.4489 - val_acc: 0.8642 - 2s/epoch - 14ms/step\n",
            "Epoch 44/100\n",
            "160/160 - 2s - loss: 0.7875 - acc: 0.7322 - val_loss: 0.4828 - val_acc: 0.8642 - 2s/epoch - 13ms/step\n",
            "Epoch 45/100\n",
            "160/160 - 2s - loss: 0.7296 - acc: 0.7359 - val_loss: 0.3865 - val_acc: 0.8642 - 2s/epoch - 13ms/step\n",
            "Epoch 46/100\n",
            "160/160 - 2s - loss: 0.7565 - acc: 0.7434 - val_loss: 0.4056 - val_acc: 0.8642 - 2s/epoch - 13ms/step\n",
            "Epoch 47/100\n",
            "160/160 - 2s - loss: 0.7377 - acc: 0.7384 - val_loss: 0.4203 - val_acc: 0.8642 - 2s/epoch - 13ms/step\n",
            "Epoch 48/100\n",
            "160/160 - 2s - loss: 0.7433 - acc: 0.7372 - val_loss: 0.4883 - val_acc: 0.8642 - 2s/epoch - 13ms/step\n",
            "Epoch 49/100\n",
            "160/160 - 2s - loss: 0.7544 - acc: 0.7497 - val_loss: 0.4468 - val_acc: 0.8642 - 2s/epoch - 13ms/step\n",
            "Epoch 50/100\n",
            "160/160 - 2s - loss: 0.6930 - acc: 0.7534 - val_loss: 0.4547 - val_acc: 0.8642 - 2s/epoch - 13ms/step\n",
            "Epoch 51/100\n",
            "160/160 - 2s - loss: 0.7020 - acc: 0.7472 - val_loss: 0.4003 - val_acc: 0.8642 - 2s/epoch - 14ms/step\n",
            "Epoch 52/100\n",
            "160/160 - 2s - loss: 0.7321 - acc: 0.7397 - val_loss: 0.4300 - val_acc: 0.8642 - 2s/epoch - 13ms/step\n",
            "Epoch 53/100\n",
            "160/160 - 2s - loss: 0.7060 - acc: 0.7597 - val_loss: 0.4851 - val_acc: 0.8642 - 2s/epoch - 13ms/step\n",
            "Epoch 54/100\n",
            "160/160 - 2s - loss: 0.6735 - acc: 0.7710 - val_loss: 0.4821 - val_acc: 0.8642 - 2s/epoch - 14ms/step\n",
            "Epoch 55/100\n",
            "160/160 - 2s - loss: 0.7301 - acc: 0.7584 - val_loss: 0.4173 - val_acc: 0.8642 - 2s/epoch - 13ms/step\n",
            "Epoch 56/100\n",
            "160/160 - 2s - loss: 0.7148 - acc: 0.7635 - val_loss: 0.4694 - val_acc: 0.8642 - 2s/epoch - 14ms/step\n",
            "Epoch 57/100\n",
            "160/160 - 2s - loss: 0.7079 - acc: 0.7635 - val_loss: 0.4340 - val_acc: 0.8642 - 2s/epoch - 13ms/step\n",
            "Epoch 58/100\n",
            "160/160 - 2s - loss: 0.7242 - acc: 0.7660 - val_loss: 0.4667 - val_acc: 0.8642 - 2s/epoch - 13ms/step\n",
            "Epoch 59/100\n",
            "160/160 - 2s - loss: 0.7131 - acc: 0.7584 - val_loss: 0.4831 - val_acc: 0.8642 - 2s/epoch - 13ms/step\n",
            "Epoch 60/100\n",
            "160/160 - 2s - loss: 0.6894 - acc: 0.7660 - val_loss: 0.4383 - val_acc: 0.8642 - 2s/epoch - 14ms/step\n",
            "Epoch 61/100\n",
            "160/160 - 2s - loss: 0.7169 - acc: 0.7610 - val_loss: 0.4541 - val_acc: 0.8642 - 2s/epoch - 13ms/step\n",
            "Epoch 62/100\n",
            "160/160 - 2s - loss: 0.6925 - acc: 0.7760 - val_loss: 0.3960 - val_acc: 0.8642 - 2s/epoch - 13ms/step\n",
            "Epoch 63/100\n",
            "160/160 - 2s - loss: 0.6925 - acc: 0.7672 - val_loss: 0.4518 - val_acc: 0.8642 - 2s/epoch - 13ms/step\n",
            "Epoch 64/100\n",
            "160/160 - 2s - loss: 0.7164 - acc: 0.7522 - val_loss: 1.5917 - val_acc: 0.8450 - 2s/epoch - 13ms/step\n",
            "Epoch 65/100\n",
            "160/160 - 2s - loss: 0.7855 - acc: 0.7434 - val_loss: 0.4712 - val_acc: 0.8642 - 2s/epoch - 13ms/step\n",
            "Epoch 66/100\n",
            "160/160 - 2s - loss: 0.7263 - acc: 0.7422 - val_loss: 0.5305 - val_acc: 0.8642 - 2s/epoch - 13ms/step\n",
            "Epoch 67/100\n",
            "160/160 - 2s - loss: 0.6810 - acc: 0.7597 - val_loss: 0.4912 - val_acc: 0.8642 - 2s/epoch - 14ms/step\n",
            "Epoch 68/100\n",
            "160/160 - 2s - loss: 0.6895 - acc: 0.7622 - val_loss: 0.4726 - val_acc: 0.8642 - 2s/epoch - 13ms/step\n",
            "Epoch 69/100\n",
            "160/160 - 2s - loss: 0.6874 - acc: 0.7760 - val_loss: 0.4954 - val_acc: 0.8642 - 2s/epoch - 13ms/step\n",
            "Epoch 70/100\n",
            "160/160 - 2s - loss: 0.6859 - acc: 0.7697 - val_loss: 0.4253 - val_acc: 0.8642 - 2s/epoch - 13ms/step\n",
            "Epoch 71/100\n",
            "160/160 - 2s - loss: 0.7029 - acc: 0.7710 - val_loss: 0.5150 - val_acc: 0.8642 - 2s/epoch - 14ms/step\n",
            "Epoch 72/100\n",
            "160/160 - 2s - loss: 0.6754 - acc: 0.7785 - val_loss: 0.5375 - val_acc: 0.8642 - 2s/epoch - 13ms/step\n",
            "Epoch 73/100\n",
            "160/160 - 2s - loss: 0.6649 - acc: 0.7697 - val_loss: 0.4796 - val_acc: 0.8642 - 2s/epoch - 13ms/step\n",
            "Epoch 74/100\n",
            "160/160 - 2s - loss: 0.7019 - acc: 0.7672 - val_loss: 0.4855 - val_acc: 0.8642 - 2s/epoch - 13ms/step\n",
            "Epoch 75/100\n",
            "160/160 - 2s - loss: 0.7018 - acc: 0.7509 - val_loss: 0.5216 - val_acc: 0.8642 - 2s/epoch - 13ms/step\n",
            "Epoch 76/100\n",
            "160/160 - 2s - loss: 0.6548 - acc: 0.7835 - val_loss: 0.4797 - val_acc: 0.8642 - 2s/epoch - 13ms/step\n",
            "Epoch 77/100\n",
            "160/160 - 2s - loss: 0.7032 - acc: 0.7635 - val_loss: 0.4376 - val_acc: 0.8642 - 2s/epoch - 13ms/step\n",
            "Epoch 78/100\n",
            "160/160 - 2s - loss: 0.6610 - acc: 0.7660 - val_loss: 0.4307 - val_acc: 0.8642 - 2s/epoch - 13ms/step\n",
            "Epoch 79/100\n",
            "160/160 - 2s - loss: 0.6398 - acc: 0.7797 - val_loss: 0.5073 - val_acc: 0.8642 - 2s/epoch - 14ms/step\n",
            "Epoch 80/100\n",
            "160/160 - 2s - loss: 0.6371 - acc: 0.7922 - val_loss: 0.4365 - val_acc: 0.8642 - 2s/epoch - 13ms/step\n",
            "Epoch 81/100\n",
            "160/160 - 2s - loss: 0.6993 - acc: 0.7735 - val_loss: 0.5280 - val_acc: 0.8642 - 2s/epoch - 13ms/step\n",
            "Epoch 82/100\n",
            "160/160 - 2s - loss: 0.6949 - acc: 0.7610 - val_loss: 0.5184 - val_acc: 0.8642 - 2s/epoch - 14ms/step\n",
            "Epoch 83/100\n",
            "160/160 - 3s - loss: 0.6894 - acc: 0.7710 - val_loss: 0.5042 - val_acc: 0.8642 - 3s/epoch - 22ms/step\n",
            "Epoch 84/100\n",
            "160/160 - 2s - loss: 0.6512 - acc: 0.7735 - val_loss: 0.5664 - val_acc: 0.8642 - 2s/epoch - 13ms/step\n",
            "Epoch 85/100\n",
            "160/160 - 2s - loss: 0.6604 - acc: 0.7772 - val_loss: 0.5174 - val_acc: 0.8642 - 2s/epoch - 13ms/step\n",
            "Epoch 86/100\n",
            "160/160 - 2s - loss: 0.6785 - acc: 0.7810 - val_loss: 0.6180 - val_acc: 0.8642 - 2s/epoch - 13ms/step\n",
            "Epoch 87/100\n",
            "160/160 - 2s - loss: 0.6664 - acc: 0.7722 - val_loss: 0.4920 - val_acc: 0.8642 - 2s/epoch - 14ms/step\n",
            "Epoch 88/100\n",
            "160/160 - 2s - loss: 0.6656 - acc: 0.7722 - val_loss: 0.5581 - val_acc: 0.8642 - 2s/epoch - 13ms/step\n",
            "Epoch 89/100\n",
            "160/160 - 2s - loss: 0.6781 - acc: 0.7610 - val_loss: 0.5542 - val_acc: 0.8642 - 2s/epoch - 13ms/step\n",
            "Epoch 90/100\n",
            "160/160 - 2s - loss: 0.6586 - acc: 0.7847 - val_loss: 0.5899 - val_acc: 0.8642 - 2s/epoch - 14ms/step\n",
            "Epoch 91/100\n",
            "160/160 - 2s - loss: 0.6654 - acc: 0.7710 - val_loss: 0.5743 - val_acc: 0.8642 - 2s/epoch - 12ms/step\n",
            "Epoch 92/100\n",
            "160/160 - 2s - loss: 0.6517 - acc: 0.7735 - val_loss: 0.5883 - val_acc: 0.8642 - 2s/epoch - 13ms/step\n",
            "Epoch 93/100\n",
            "160/160 - 2s - loss: 0.6491 - acc: 0.7735 - val_loss: 0.5424 - val_acc: 0.8642 - 2s/epoch - 13ms/step\n",
            "Epoch 94/100\n",
            "160/160 - 2s - loss: 0.6890 - acc: 0.7710 - val_loss: 0.6034 - val_acc: 0.8642 - 2s/epoch - 14ms/step\n",
            "Epoch 95/100\n",
            "160/160 - 2s - loss: 0.7190 - acc: 0.7422 - val_loss: 0.6265 - val_acc: 0.8642 - 2s/epoch - 13ms/step\n",
            "Epoch 96/100\n",
            "160/160 - 2s - loss: 0.6625 - acc: 0.7835 - val_loss: 0.5231 - val_acc: 0.8642 - 2s/epoch - 14ms/step\n",
            "Epoch 97/100\n",
            "160/160 - 2s - loss: 0.6548 - acc: 0.7760 - val_loss: 0.5464 - val_acc: 0.8642 - 2s/epoch - 14ms/step\n",
            "Epoch 98/100\n",
            "160/160 - 2s - loss: 0.6300 - acc: 0.7810 - val_loss: 0.5803 - val_acc: 0.8642 - 2s/epoch - 13ms/step\n",
            "Epoch 99/100\n",
            "160/160 - 2s - loss: 0.6664 - acc: 0.7797 - val_loss: 0.7017 - val_acc: 0.8642 - 2s/epoch - 13ms/step\n",
            "Epoch 100/100\n",
            "160/160 - 2s - loss: 0.6819 - acc: 0.7685 - val_loss: 0.5852 - val_acc: 0.8642 - 2s/epoch - 13ms/step\n"
          ]
        }
      ]
    },
    {
      "cell_type": "code",
      "source": [
        "sg.utils.plot_history(history)\n",
        "test_metrics = model.evaluate(test_gen)\n",
        "print(\"\\nTest Set Metrics:\")\n",
        "for name, val in zip(model.metrics_names, test_metrics):\n",
        "    print(\"\\t{}: {:0.4f}\".format(name, val))"
      ],
      "metadata": {
        "colab": {
          "base_uri": "https://localhost:8080/",
          "height": 676
        },
        "id": "FYlQ8jA9UkMz",
        "outputId": "992276a2-ae3f-4bf5-8fff-1cd5481f3479"
      },
      "execution_count": null,
      "outputs": [
        {
          "output_type": "stream",
          "name": "stdout",
          "text": [
            "240/240 [==============================] - 2s 7ms/step - loss: 0.5856 - acc: 0.8642\n",
            "\n",
            "Test Set Metrics:\n",
            "\tloss: 0.5856\n",
            "\tacc: 0.8642\n"
          ]
        },
        {
          "output_type": "display_data",
          "data": {
            "text/plain": [
              "<Figure size 504x576 with 2 Axes>"
            ],
            "image/png": "[encoded data removed]"
          },
          "metadata": {
            "needs_background": "light"
          }
        }
      ]
    },
    {
      "cell_type": "code",
      "source": [
        "all_nodes = node_subjects\n",
        "all_mapper = generator.flow(all_nodes)\n",
        "all_predictions = model.predict(all_mapper)"
      ],
      "metadata": {
        "id": "S6BIXQhqUsdT"
      },
      "execution_count": null,
      "outputs": []
    },
    {
      "cell_type": "code",
      "source": [
        "node_predictions = target_encoding.inverse_transform(all_predictions)"
      ],
      "metadata": {
        "id": "--on-AiDUucE"
      },
      "execution_count": null,
      "outputs": []
    },
    {
      "cell_type": "code",
      "source": [
        "df = pd.DataFrame({\"Predicted\": node_predictions, \"True\": node_subjects})\n",
        "df.head(100)"
      ],
      "metadata": {
        "colab": {
          "base_uri": "https://localhost:8080/",
          "height": 424
        },
        "id": "YvwdcJ3-U0Zs",
        "outputId": "624d1667-cd00-4177-d93d-26ead2c70ae0"
      },
      "execution_count": null,
      "outputs": [
        {
          "output_type": "execute_result",
          "data": {
            "text/plain": [
              "    Predicted  True\n",
              "0           1     1\n",
              "1           1     1\n",
              "2           1     1\n",
              "3           0     0\n",
              "4           1     1\n",
              "..        ...   ...\n",
              "95          1     2\n",
              "96          0     0\n",
              "97          0     0\n",
              "98          1     2\n",
              "99          1     2\n",
              "\n",
              "[100 rows x 2 columns]"
            ],
            "text/html": [
              "\n",
              "  <div id=\"df-2c361482-e3ec-4ffd-b565-4a3625410aca\">\n",
              "    <div class=\"colab-df-container\">\n",
              "      <div>\n",
              "<style scoped>\n",
              "    .dataframe tbody tr th:only-of-type {\n",
              "        vertical-align: middle;\n",
              "    }\n",
              "\n",
              "    .dataframe tbody tr th {\n",
              "        vertical-align: top;\n",
              "    }\n",
              "\n",
              "    .dataframe thead th {\n",
              "        text-align: right;\n",
              "    }\n",
              "</style>\n",
              "<table border=\"1\" class=\"dataframe\">\n",
              "  <thead>\n",
              "    <tr style=\"text-align: right;\">\n",
              "      <th></th>\n",
              "      <th>Predicted</th>\n",
              "      <th>True</th>\n",
              "    </tr>\n",
              "  </thead>\n",
              "  <tbody>\n",
              "    <tr>\n",
              "      <th>0</th>\n",
              "      <td>1</td>\n",
              "      <td>1</td>\n",
              "    </tr>\n",
              "    <tr>\n",
              "      <th>1</th>\n",
              "      <td>1</td>\n",
              "      <td>1</td>\n",
              "    </tr>\n",
              "    <tr>\n",
              "      <th>2</th>\n",
              "      <td>1</td>\n",
              "      <td>1</td>\n",
              "    </tr>\n",
              "    <tr>\n",
              "      <th>3</th>\n",
              "      <td>0</td>\n",
              "      <td>0</td>\n",
              "    </tr>\n",
              "    <tr>\n",
              "      <th>4</th>\n",
              "      <td>1</td>\n",
              "      <td>1</td>\n",
              "    </tr>\n",
              "    <tr>\n",
              "      <th>...</th>\n",
              "      <td>...</td>\n",
              "      <td>...</td>\n",
              "    </tr>\n",
              "    <tr>\n",
              "      <th>95</th>\n",
              "      <td>1</td>\n",
              "      <td>2</td>\n",
              "    </tr>\n",
              "    <tr>\n",
              "      <th>96</th>\n",
              "      <td>0</td>\n",
              "      <td>0</td>\n",
              "    </tr>\n",
              "    <tr>\n",
              "      <th>97</th>\n",
              "      <td>0</td>\n",
              "      <td>0</td>\n",
              "    </tr>\n",
              "    <tr>\n",
              "      <th>98</th>\n",
              "      <td>1</td>\n",
              "      <td>2</td>\n",
              "    </tr>\n",
              "    <tr>\n",
              "      <th>99</th>\n",
              "      <td>1</td>\n",
              "      <td>2</td>\n",
              "    </tr>\n",
              "  </tbody>\n",
              "</table>\n",
              "<p>100 rows × 2 columns</p>\n",
              "</div>\n",
              "      <button class=\"colab-df-convert\" onclick=\"convertToInteractive('df-2c361482-e3ec-4ffd-b565-4a3625410aca')\"\n",
              "              title=\"Convert this dataframe to an interactive table.\"\n",
              "              style=\"display:none;\">\n",
              "        \n",
              "  <svg xmlns=\"http://www.w3.org/2000/svg\" height=\"24px\"viewBox=\"0 0 24 24\"\n",
              "       width=\"24px\">\n",
              "    <path d=\"M0 0h24v24H0V0z\" fill=\"none\"/>\n",
              "    <path d=\"M18.56 5.44l.94 2.06.94-2.06 2.06-.94-2.06-.94-.94-2.06-.94 2.06-2.06.94zm-11 1L8.5 8.5l.94-2.06 2.06-.94-2.06-.94L8.5 2.5l-.94 2.06-2.06.94zm10 10l.94 2.06.94-2.06 2.06-.94-2.06-.94-.94-2.06-.94 2.06-2.06.94z\"/><path d=\"M17.41 7.96l-1.37-1.37c-.4-.4-.92-.59-1.43-.59-.52 0-1.04.2-1.43.59L10.3 9.45l-7.72 7.72c-.78.78-.78 2.05 0 2.83L4 21.41c.39.39.9.59 1.41.59.51 0 1.02-.2 1.41-.59l7.78-7.78 2.81-2.81c.8-.78.8-2.07 0-2.86zM5.41 20L4 18.59l7.72-7.72 1.47 1.35L5.41 20z\"/>\n",
              "  </svg>\n",
              "      </button>\n",
              "      \n",
              "  <style>\n",
              "    .colab-df-container {\n",
              "      display:flex;\n",
              "      flex-wrap:wrap;\n",
              "      gap: 12px;\n",
              "    }\n",
              "\n",
              "    .colab-df-convert {\n",
              "      background-color: #E8F0FE;\n",
              "      border: none;\n",
              "      border-radius: 50%;\n",
              "      cursor: pointer;\n",
              "      display: none;\n",
              "      fill: #1967D2;\n",
              "      height: 32px;\n",
              "      padding: 0 0 0 0;\n",
              "      width: 32px;\n",
              "    }\n",
              "\n",
              "    .colab-df-convert:hover {\n",
              "      background-color: #E2EBFA;\n",
              "      box-shadow: 0px 1px 2px rgba(60, 64, 67, 0.3), 0px 1px 3px 1px rgba(60, 64, 67, 0.15);\n",
              "      fill: #174EA6;\n",
              "    }\n",
              "\n",
              "    [theme=dark] .colab-df-convert {\n",
              "      background-color: #3B4455;\n",
              "      fill: #D2E3FC;\n",
              "    }\n",
              "\n",
              "    [theme=dark] .colab-df-convert:hover {\n",
              "      background-color: #434B5C;\n",
              "      box-shadow: 0px 1px 3px 1px rgba(0, 0, 0, 0.15);\n",
              "      filter: drop-shadow(0px 1px 2px rgba(0, 0, 0, 0.3));\n",
              "      fill: #FFFFFF;\n",
              "    }\n",
              "  </style>\n",
              "\n",
              "      <script>\n",
              "        const buttonEl =\n",
              "          document.querySelector('#df-2c361482-e3ec-4ffd-b565-4a3625410aca button.colab-df-convert');\n",
              "        buttonEl.style.display =\n",
              "          google.colab.kernel.accessAllowed ? 'block' : 'none';\n",
              "\n",
              "        async function convertToInteractive(key) {\n",
              "          const element = document.querySelector('#df-2c361482-e3ec-4ffd-b565-4a3625410aca');\n",
              "          const dataTable =\n",
              "            await google.colab.kernel.invokeFunction('convertToInteractive',\n",
              "                                                     [key], {});\n",
              "          if (!dataTable) return;\n",
              "\n",
              "          const docLinkHtml = 'Like what you see? Visit the ' +\n",
              "            '<a target=\"_blank\" href=https://colab.research.google.com/notebooks/data_table.ipynb>data table notebook</a>'\n",
              "            + ' to learn more about interactive tables.';\n",
              "          element.innerHTML = '';\n",
              "          dataTable['output_type'] = 'display_data';\n",
              "          await google.colab.output.renderOutput(dataTable, element);\n",
              "          const docLink = document.createElement('div');\n",
              "          docLink.innerHTML = docLinkHtml;\n",
              "          element.appendChild(docLink);\n",
              "        }\n",
              "      </script>\n",
              "    </div>\n",
              "  </div>\n",
              "  "
            ]
          },
          "metadata": {},
          "execution_count": 39
        }
      ]
    },
    {
      "cell_type": "code",
      "source": [
        "Gnx = G.to_networkx(feature_attr=None)"
      ],
      "metadata": {
        "id": "RbbR-GayVHu-"
      },
      "execution_count": null,
      "outputs": []
    },
    {
      "cell_type": "code",
      "source": [
        "for nid, pred, true in zip(df.index, df[\"Predicted\"], df[\"True\"]):\n",
        "    Gnx.nodes[nid][\"subject\"] = true\n",
        "    Gnx.nodes[nid][\"PREDICTED_subject\"] = pred.split(\"=\")[-1]"
      ],
      "metadata": {
        "id": "dXetMR7AVKPV"
      },
      "execution_count": null,
      "outputs": []
    },
    {
      "cell_type": "code",
      "source": [
        "print(\"\\nTest Set Metrics:\")\n",
        "for name, val in zip(model.metrics_names, test_metrics):\n",
        "    print(\"\\t{}: {:0.4f}\".format(name, val))\n",
        "    \n",
        "\n",
        "from sklearn.metrics import confusion_matrix\n",
        "import seaborn as sns\n",
        "import matplotlib.pyplot as plt\n",
        "\n",
        "\n",
        "cf_matrix = confusion_matrix(node_subjects,node_predictions)\n",
        "print(cf_matrix)\n",
        "ax = sns.heatmap(cf_matrix, annot=True, cmap='Blues')\n",
        "\n",
        "ax.set_title('Seaborn Confusion Matrix with labels\\n\\n');\n",
        "ax.set_xlabel('\\nPredicted Values')\n",
        "ax.set_ylabel('Actual Values ');\n",
        "\n"
      ],
      "metadata": {
        "colab": {
          "base_uri": "https://localhost:8080/",
          "height": 482
        },
        "id": "iaroF0drZY78",
        "outputId": "154d70c8-b7ac-4227-b645-fb50d89eede2"
      },
      "execution_count": null,
      "outputs": [
        {
          "output_type": "stream",
          "name": "stdout",
          "text": [
            "\n",
            "Test Set Metrics:\n",
            "\tloss: 0.5856\n",
            "\tacc: 0.8642\n",
            "[[1062    0    0    0]\n",
            " [   0  422    0    0]\n",
            " [   0  271    0    0]\n",
            " [   0    0    0  244]]\n"
          ]
        },
        {
          "output_type": "display_data",
          "data": {
            "text/plain": [
              "<Figure size 432x288 with 2 Axes>"
            ],
            "image/png": "[encoded data removed]"
          },
          "metadata": {
            "needs_background": "light"
          }
        }
      ]
    },
    {
      "cell_type": "code",
      "source": [
        "embedding_model = Model(inputs=x_inp, outputs=x_out)"
      ],
      "metadata": {
        "id": "gUibSmlJN1hj"
      },
      "execution_count": null,
      "outputs": []
    },
    {
      "cell_type": "code",
      "source": [
        "emb = embedding_model.predict(all_mapper)\n",
        "emb.shape"
      ],
      "metadata": {
        "colab": {
          "base_uri": "https://localhost:8080/"
        },
        "id": "YblG9RJlN64V",
        "outputId": "6ea3d252-849a-4e2c-bebf-d37452f50dee"
      },
      "execution_count": null,
      "outputs": [
        {
          "output_type": "execute_result",
          "data": {
            "text/plain": [
              "(1999, 32)"
            ]
          },
          "metadata": {},
          "execution_count": 43
        }
      ]
    },
    {
      "cell_type": "code",
      "source": [
        "from sklearn.decomposition import PCA\n",
        "from sklearn.manifold import TSNE\n",
        "import pandas as pd\n",
        "import numpy as np"
      ],
      "metadata": {
        "id": "4sMtV8oUOAcS"
      },
      "execution_count": null,
      "outputs": []
    },
    {
      "cell_type": "code",
      "source": [
        "X = emb\n",
        "y = np.argmax(target_encoding.transform(node_subjects), axis=1)"
      ],
      "metadata": {
        "id": "DP1rFTXuOEHu"
      },
      "execution_count": null,
      "outputs": []
    },
    {
      "cell_type": "code",
      "source": [
        "if X.shape[1] > 2:\n",
        "    transform = TSNE  # PCA\n",
        "\n",
        "    trans = transform(n_components=2)\n",
        "    emb_transformed = pd.DataFrame(trans.fit_transform(X), index=node_subjects.index)\n",
        "    emb_transformed[\"label\"] = y\n",
        "else:\n",
        "    emb_transformed = pd.DataFrame(X, index=node_subjects.index)\n",
        "    emb_transformed = emb_transformed.rename(columns={\"0\": 0, \"1\": 1})\n",
        "    emb_transformed[\"label\"] = y"
      ],
      "metadata": {
        "colab": {
          "base_uri": "https://localhost:8080/"
        },
        "id": "xQPvzd5NOHQw",
        "outputId": "7ec1fb58-c3b0-41f4-db9d-88988fb18202"
      },
      "execution_count": null,
      "outputs": [
        {
          "output_type": "stream",
          "name": "stderr",
          "text": [
            "/usr/local/lib/python3.7/dist-packages/sklearn/manifold/_t_sne.py:783: FutureWarning: The default initialization in TSNE will change from 'random' to 'pca' in 1.2.\n",
            "  FutureWarning,\n",
            "/usr/local/lib/python3.7/dist-packages/sklearn/manifold/_t_sne.py:793: FutureWarning: The default learning rate in TSNE will change from 200.0 to 'auto' in 1.2.\n",
            "  FutureWarning,\n"
          ]
        }
      ]
    },
    {
      "cell_type": "code",
      "source": [
        "alpha = 0.8\n",
        "\n",
        "fig, ax = plt.subplots(figsize=(20, 20))\n",
        "ax.scatter(\n",
        "    emb_transformed[0],\n",
        "    emb_transformed[1],\n",
        "    c=emb_transformed[\"label\"].astype(\"category\"),\n",
        "    cmap=\"jet\",\n",
        "    alpha=alpha,\n",
        ")\n",
        "ax.set(aspect=\"equal\", xlabel=\"$X_1$\", ylabel=\"$X_2$\")\n",
        "plt.title(\n",
        "    \"{} visualization of GraphSAGE embeddings for MOFSocialNetX\".format(transform.__name__)\n",
        ")\n",
        "plt.show()"
      ],
      "metadata": {
        "colab": {
          "base_uri": "https://localhost:8080/",
          "height": 1000
        },
        "id": "sThIjgsuOMz8",
        "outputId": "1b4be1fe-859a-4abe-e35a-1e17a35fb4b7"
      },
      "execution_count": null,
      "outputs": [
        {
          "output_type": "display_data",
          "data": {
            "text/plain": [
              "<Figure size 1440x1440 with 1 Axes>"
            ],
            "image/png": "[encoded data removed]"
          },
          "metadata": {
            "needs_background": "light"
          }
        }
      ]
    },
    {
      "cell_type": "code",
      "source": [
        "for nid in train_subjects.index:\n",
        "    Gnx.nodes[nid][\"isTrain\"] = True\n",
        "\n",
        "for nid in test_subjects.index:\n",
        "    Gnx.nodes[nid][\"isTrain\"] = False"
      ],
      "metadata": {
        "id": "9yZcm_hRVNE0"
      },
      "execution_count": null,
      "outputs": []
    },
    {
      "cell_type": "code",
      "source": [
        "for nid in Gnx.nodes():\n",
        "    Gnx.nodes[nid][\"isCorrect\"] = (\n",
        "        Gnx.nodes[nid][\"subject\"] == Gnx.nodes[nid][\"PREDICTED_subject\"]\n",
        "    )"
      ],
      "metadata": {
        "id": "jvYSnpa0VPol",
        "colab": {
          "base_uri": "https://localhost:8080/",
          "height": 225
        },
        "outputId": "9bdca4b6-ded0-4b33-cd6f-4a80cebad1f2"
      },
      "execution_count": null,
      "outputs": [
        {
          "output_type": "error",
          "ename": "KeyError",
          "evalue": "ignored",
          "traceback": [
            "\u001b[0;31m---------------------------------------------------------------------------\u001b[0m",
            "\u001b[0;31mKeyError\u001b[0m                                  Traceback (most recent call last)",
            "\u001b[0;32m<ipython-input-49-2aedbdbab9c1>\u001b[0m in \u001b[0;36m<module>\u001b[0;34m()\u001b[0m\n\u001b[1;32m      1\u001b[0m \u001b[0;32mfor\u001b[0m \u001b[0mnid\u001b[0m \u001b[0;32min\u001b[0m \u001b[0mGnx\u001b[0m\u001b[0;34m.\u001b[0m\u001b[0mnodes\u001b[0m\u001b[0;34m(\u001b[0m\u001b[0;34m)\u001b[0m\u001b[0;34m:\u001b[0m\u001b[0;34m\u001b[0m\u001b[0;34m\u001b[0m\u001b[0m\n\u001b[1;32m      2\u001b[0m     Gnx.nodes[nid][\"isCorrect\"] = (\n\u001b[0;32m----> 3\u001b[0;31m         \u001b[0mGnx\u001b[0m\u001b[0;34m.\u001b[0m\u001b[0mnodes\u001b[0m\u001b[0;34m[\u001b[0m\u001b[0mnid\u001b[0m\u001b[0;34m]\u001b[0m\u001b[0;34m[\u001b[0m\u001b[0;34m\"subject\"\u001b[0m\u001b[0;34m]\u001b[0m \u001b[0;34m==\u001b[0m \u001b[0mGnx\u001b[0m\u001b[0;34m.\u001b[0m\u001b[0mnodes\u001b[0m\u001b[0;34m[\u001b[0m\u001b[0mnid\u001b[0m\u001b[0;34m]\u001b[0m\u001b[0;34m[\u001b[0m\u001b[0;34m\"PREDICTED_subject\"\u001b[0m\u001b[0;34m]\u001b[0m\u001b[0;34m\u001b[0m\u001b[0;34m\u001b[0m\u001b[0m\n\u001b[0m\u001b[1;32m      4\u001b[0m     )\n",
            "\u001b[0;31mKeyError\u001b[0m: 'subject'"
          ]
        }
      ]
    },
    {
      "cell_type": "code",
      "source": [
        "pred_fname = \"pred_n={}.graphml\".format(num_samples)\n",
        "nx.write_graphml(Gnx, os.path.join(dataset.data_directory, pred_fname))"
      ],
      "metadata": {
        "id": "rZQh0ml7VSU0"
      },
      "execution_count": null,
      "outputs": []
    },
    {
      "cell_type": "code",
      "source": [
        "pip install stellargraph\n"
      ],
      "metadata": {
        "colab": {
          "base_uri": "https://localhost:8080/"
        },
        "id": "yiVYxpiIS9H1",
        "outputId": "b863604e-6428-4e0f-f5c4-010ebdfe1f47"
      },
      "execution_count": null,
      "outputs": [
        {
          "output_type": "stream",
          "name": "stdout",
          "text": [
            "Looking in indexes: https://pypi.org/simple, https://us-python.pkg.dev/colab-wheels/public/simple/\n",
            "Collecting stellargraph\n",
            "  Downloading stellargraph-1.2.1-py3-none-any.whl (435 kB)\n",
            "\u001b[K     |████████████████████████████████| 435 kB 5.8 MB/s \n",
            "\u001b[?25hRequirement already satisfied: pandas>=0.24 in /usr/local/lib/python3.7/dist-packages (from stellargraph) (1.3.5)\n",
            "Requirement already satisfied: matplotlib>=2.2 in /usr/local/lib/python3.7/dist-packages (from stellargraph) (3.2.2)\n",
            "Requirement already satisfied: gensim>=3.4.0 in /usr/local/lib/python3.7/dist-packages (from stellargraph) (3.6.0)\n",
            "Requirement already satisfied: scipy>=1.1.0 in /usr/local/lib/python3.7/dist-packages (from stellargraph) (1.4.1)\n",
            "Requirement already satisfied: tensorflow>=2.1.0 in /usr/local/lib/python3.7/dist-packages (from stellargraph) (2.8.2+zzzcolab20220527125636)\n",
            "Requirement already satisfied: numpy>=1.14 in /usr/local/lib/python3.7/dist-packages (from stellargraph) (1.21.6)\n",
            "Requirement already satisfied: networkx>=2.2 in /usr/local/lib/python3.7/dist-packages (from stellargraph) (2.6.3)\n",
            "Requirement already satisfied: scikit-learn>=0.20 in /usr/local/lib/python3.7/dist-packages (from stellargraph) (1.0.2)\n",
            "Requirement already satisfied: smart-open>=1.2.1 in /usr/local/lib/python3.7/dist-packages (from gensim>=3.4.0->stellargraph) (5.2.1)\n",
            "Requirement already satisfied: six>=1.5.0 in /usr/local/lib/python3.7/dist-packages (from gensim>=3.4.0->stellargraph) (1.15.0)\n",
            "Requirement already satisfied: kiwisolver>=1.0.1 in /usr/local/lib/python3.7/dist-packages (from matplotlib>=2.2->stellargraph) (1.4.3)\n",
            "Requirement already satisfied: cycler>=0.10 in /usr/local/lib/python3.7/dist-packages (from matplotlib>=2.2->stellargraph) (0.11.0)\n",
            "Requirement already satisfied: python-dateutil>=2.1 in /usr/local/lib/python3.7/dist-packages (from matplotlib>=2.2->stellargraph) (2.8.2)\n",
            "Requirement already satisfied: pyparsing!=2.0.4,!=2.1.2,!=2.1.6,>=2.0.1 in /usr/local/lib/python3.7/dist-packages (from matplotlib>=2.2->stellargraph) (3.0.9)\n",
            "Requirement already satisfied: typing-extensions in /usr/local/lib/python3.7/dist-packages (from kiwisolver>=1.0.1->matplotlib>=2.2->stellargraph) (4.1.1)\n",
            "Requirement already satisfied: pytz>=2017.3 in /usr/local/lib/python3.7/dist-packages (from pandas>=0.24->stellargraph) (2022.1)\n",
            "Requirement already satisfied: joblib>=0.11 in /usr/local/lib/python3.7/dist-packages (from scikit-learn>=0.20->stellargraph) (1.1.0)\n",
            "Requirement already satisfied: threadpoolctl>=2.0.0 in /usr/local/lib/python3.7/dist-packages (from scikit-learn>=0.20->stellargraph) (3.1.0)\n",
            "Requirement already satisfied: keras-preprocessing>=1.1.1 in /usr/local/lib/python3.7/dist-packages (from tensorflow>=2.1.0->stellargraph) (1.1.2)\n",
            "Requirement already satisfied: grpcio<2.0,>=1.24.3 in /usr/local/lib/python3.7/dist-packages (from tensorflow>=2.1.0->stellargraph) (1.46.3)\n",
            "Requirement already satisfied: termcolor>=1.1.0 in /usr/local/lib/python3.7/dist-packages (from tensorflow>=2.1.0->stellargraph) (1.1.0)\n",
            "Requirement already satisfied: astunparse>=1.6.0 in /usr/local/lib/python3.7/dist-packages (from tensorflow>=2.1.0->stellargraph) (1.6.3)\n",
            "Requirement already satisfied: protobuf<3.20,>=3.9.2 in /usr/local/lib/python3.7/dist-packages (from tensorflow>=2.1.0->stellargraph) (3.17.3)\n",
            "Requirement already satisfied: h5py>=2.9.0 in /usr/local/lib/python3.7/dist-packages (from tensorflow>=2.1.0->stellargraph) (3.1.0)\n",
            "Requirement already satisfied: gast>=0.2.1 in /usr/local/lib/python3.7/dist-packages (from tensorflow>=2.1.0->stellargraph) (0.5.3)\n",
            "Requirement already satisfied: flatbuffers>=1.12 in /usr/local/lib/python3.7/dist-packages (from tensorflow>=2.1.0->stellargraph) (2.0)\n",
            "Requirement already satisfied: libclang>=9.0.1 in /usr/local/lib/python3.7/dist-packages (from tensorflow>=2.1.0->stellargraph) (14.0.1)\n",
            "Requirement already satisfied: tensorboard<2.9,>=2.8 in /usr/local/lib/python3.7/dist-packages (from tensorflow>=2.1.0->stellargraph) (2.8.0)\n",
            "Requirement already satisfied: tensorflow-io-gcs-filesystem>=0.23.1 in /usr/local/lib/python3.7/dist-packages (from tensorflow>=2.1.0->stellargraph) (0.26.0)\n",
            "Requirement already satisfied: keras<2.9,>=2.8.0rc0 in /usr/local/lib/python3.7/dist-packages (from tensorflow>=2.1.0->stellargraph) (2.8.0)\n",
            "Requirement already satisfied: google-pasta>=0.1.1 in /usr/local/lib/python3.7/dist-packages (from tensorflow>=2.1.0->stellargraph) (0.2.0)\n",
            "Requirement already satisfied: tensorflow-estimator<2.9,>=2.8 in /usr/local/lib/python3.7/dist-packages (from tensorflow>=2.1.0->stellargraph) (2.8.0)\n",
            "Requirement already satisfied: opt-einsum>=2.3.2 in /usr/local/lib/python3.7/dist-packages (from tensorflow>=2.1.0->stellargraph) (3.3.0)\n",
            "Requirement already satisfied: wrapt>=1.11.0 in /usr/local/lib/python3.7/dist-packages (from tensorflow>=2.1.0->stellargraph) (1.14.1)\n",
            "Requirement already satisfied: absl-py>=0.4.0 in /usr/local/lib/python3.7/dist-packages (from tensorflow>=2.1.0->stellargraph) (1.1.0)\n",
            "Requirement already satisfied: setuptools in /usr/local/lib/python3.7/dist-packages (from tensorflow>=2.1.0->stellargraph) (57.4.0)\n",
            "Requirement already satisfied: wheel<1.0,>=0.23.0 in /usr/local/lib/python3.7/dist-packages (from astunparse>=1.6.0->tensorflow>=2.1.0->stellargraph) (0.37.1)\n",
            "Requirement already satisfied: cached-property in /usr/local/lib/python3.7/dist-packages (from h5py>=2.9.0->tensorflow>=2.1.0->stellargraph) (1.5.2)\n",
            "Requirement already satisfied: markdown>=2.6.8 in /usr/local/lib/python3.7/dist-packages (from tensorboard<2.9,>=2.8->tensorflow>=2.1.0->stellargraph) (3.3.7)\n",
            "Requirement already satisfied: tensorboard-data-server<0.7.0,>=0.6.0 in /usr/local/lib/python3.7/dist-packages (from tensorboard<2.9,>=2.8->tensorflow>=2.1.0->stellargraph) (0.6.1)\n",
            "Requirement already satisfied: google-auth<3,>=1.6.3 in /usr/local/lib/python3.7/dist-packages (from tensorboard<2.9,>=2.8->tensorflow>=2.1.0->stellargraph) (1.35.0)\n",
            "Requirement already satisfied: google-auth-oauthlib<0.5,>=0.4.1 in /usr/local/lib/python3.7/dist-packages (from tensorboard<2.9,>=2.8->tensorflow>=2.1.0->stellargraph) (0.4.6)\n",
            "Requirement already satisfied: tensorboard-plugin-wit>=1.6.0 in /usr/local/lib/python3.7/dist-packages (from tensorboard<2.9,>=2.8->tensorflow>=2.1.0->stellargraph) (1.8.1)\n",
            "Requirement already satisfied: werkzeug>=0.11.15 in /usr/local/lib/python3.7/dist-packages (from tensorboard<2.9,>=2.8->tensorflow>=2.1.0->stellargraph) (1.0.1)\n",
            "Requirement already satisfied: requests<3,>=2.21.0 in /usr/local/lib/python3.7/dist-packages (from tensorboard<2.9,>=2.8->tensorflow>=2.1.0->stellargraph) (2.23.0)\n",
            "Requirement already satisfied: cachetools<5.0,>=2.0.0 in /usr/local/lib/python3.7/dist-packages (from google-auth<3,>=1.6.3->tensorboard<2.9,>=2.8->tensorflow>=2.1.0->stellargraph) (4.2.4)\n",
            "Requirement already satisfied: pyasn1-modules>=0.2.1 in /usr/local/lib/python3.7/dist-packages (from google-auth<3,>=1.6.3->tensorboard<2.9,>=2.8->tensorflow>=2.1.0->stellargraph) (0.2.8)\n",
            "Requirement already satisfied: rsa<5,>=3.1.4 in /usr/local/lib/python3.7/dist-packages (from google-auth<3,>=1.6.3->tensorboard<2.9,>=2.8->tensorflow>=2.1.0->stellargraph) (4.8)\n",
            "Requirement already satisfied: requests-oauthlib>=0.7.0 in /usr/local/lib/python3.7/dist-packages (from google-auth-oauthlib<0.5,>=0.4.1->tensorboard<2.9,>=2.8->tensorflow>=2.1.0->stellargraph) (1.3.1)\n",
            "Requirement already satisfied: importlib-metadata>=4.4 in /usr/local/lib/python3.7/dist-packages (from markdown>=2.6.8->tensorboard<2.9,>=2.8->tensorflow>=2.1.0->stellargraph) (4.11.4)\n",
            "Requirement already satisfied: zipp>=0.5 in /usr/local/lib/python3.7/dist-packages (from importlib-metadata>=4.4->markdown>=2.6.8->tensorboard<2.9,>=2.8->tensorflow>=2.1.0->stellargraph) (3.8.0)\n",
            "Requirement already satisfied: pyasn1<0.5.0,>=0.4.6 in /usr/local/lib/python3.7/dist-packages (from pyasn1-modules>=0.2.1->google-auth<3,>=1.6.3->tensorboard<2.9,>=2.8->tensorflow>=2.1.0->stellargraph) (0.4.8)\n",
            "Requirement already satisfied: chardet<4,>=3.0.2 in /usr/local/lib/python3.7/dist-packages (from requests<3,>=2.21.0->tensorboard<2.9,>=2.8->tensorflow>=2.1.0->stellargraph) (3.0.4)\n",
            "Requirement already satisfied: idna<3,>=2.5 in /usr/local/lib/python3.7/dist-packages (from requests<3,>=2.21.0->tensorboard<2.9,>=2.8->tensorflow>=2.1.0->stellargraph) (2.10)\n",
            "Requirement already satisfied: urllib3!=1.25.0,!=1.25.1,<1.26,>=1.21.1 in /usr/local/lib/python3.7/dist-packages (from requests<3,>=2.21.0->tensorboard<2.9,>=2.8->tensorflow>=2.1.0->stellargraph) (1.24.3)\n",
            "Requirement already satisfied: certifi>=2017.4.17 in /usr/local/lib/python3.7/dist-packages (from requests<3,>=2.21.0->tensorboard<2.9,>=2.8->tensorflow>=2.1.0->stellargraph) (2022.6.15)\n",
            "Requirement already satisfied: oauthlib>=3.0.0 in /usr/local/lib/python3.7/dist-packages (from requests-oauthlib>=0.7.0->google-auth-oauthlib<0.5,>=0.4.1->tensorboard<2.9,>=2.8->tensorflow>=2.1.0->stellargraph) (3.2.0)\n",
            "Installing collected packages: stellargraph\n",
            "Successfully installed stellargraph-1.2.1\n"
          ]
        }
      ]
    }
  ]
}